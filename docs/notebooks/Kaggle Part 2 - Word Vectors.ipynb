{
 "cells": [
  {
   "cell_type": "code",
   "execution_count": 1,
   "metadata": {
    "collapsed": false
   },
   "outputs": [
    {
     "name": "stdout",
     "output_type": "stream",
     "text": [
      "Populating the interactive namespace from numpy and matplotlib\n"
     ]
    }
   ],
   "source": [
    "%pylab inline"
   ]
  },
  {
   "cell_type": "code",
   "execution_count": 11,
   "metadata": {
    "collapsed": false
   },
   "outputs": [],
   "source": [
    "import pandas as pd\n",
    "from bs4 import BeautifulSoup\n",
    "import re\n",
    "from nltk.corpus import stopwords\n",
    "import nltk.data"
   ]
  },
  {
   "cell_type": "code",
   "execution_count": 17,
   "metadata": {
    "collapsed": false
   },
   "outputs": [],
   "source": [
    "train = pd.read_csv( 'data/labeledTrainData.tsv', header=0, delimiter='\\t', quoting=3, encoding='utf' )\n",
    "test = pd.read_csv( 'data/testData.tsv', header=0, delimiter='\\t', quoting=3, encoding='utf' )\n",
    "unlabeled_train = pd.read_csv( 'data/unlabeledTrainData.tsv', header=0, delimiter='\\t', quoting=3,  encoding='utf' )"
   ]
  },
  {
   "cell_type": "code",
   "execution_count": 16,
   "metadata": {
    "collapsed": false
   },
   "outputs": [
    {
     "data": {
      "text/html": [
       "<div>\n",
       "<table border=\"1\" class=\"dataframe\">\n",
       "  <thead>\n",
       "    <tr style=\"text-align: right;\">\n",
       "      <th></th>\n",
       "      <th>id</th>\n",
       "      <th>sentiment</th>\n",
       "      <th>review</th>\n",
       "    </tr>\n",
       "  </thead>\n",
       "  <tbody>\n",
       "    <tr>\n",
       "      <th>0</th>\n",
       "      <td>\"5814_8\"</td>\n",
       "      <td>1</td>\n",
       "      <td>\"With all this stuff going down at the moment ...</td>\n",
       "    </tr>\n",
       "    <tr>\n",
       "      <th>1</th>\n",
       "      <td>\"2381_9\"</td>\n",
       "      <td>1</td>\n",
       "      <td>\"\\\"The Classic War of the Worlds\\\" by Timothy ...</td>\n",
       "    </tr>\n",
       "    <tr>\n",
       "      <th>2</th>\n",
       "      <td>\"7759_3\"</td>\n",
       "      <td>0</td>\n",
       "      <td>\"The film starts with a manager (Nicholas Bell...</td>\n",
       "    </tr>\n",
       "    <tr>\n",
       "      <th>3</th>\n",
       "      <td>\"3630_4\"</td>\n",
       "      <td>0</td>\n",
       "      <td>\"It must be assumed that those who praised thi...</td>\n",
       "    </tr>\n",
       "    <tr>\n",
       "      <th>4</th>\n",
       "      <td>\"9495_8\"</td>\n",
       "      <td>1</td>\n",
       "      <td>\"Superbly trashy and wondrously unpretentious ...</td>\n",
       "    </tr>\n",
       "  </tbody>\n",
       "</table>\n",
       "</div>"
      ],
      "text/plain": [
       "         id  sentiment                                             review\n",
       "0  \"5814_8\"          1  \"With all this stuff going down at the moment ...\n",
       "1  \"2381_9\"          1  \"\\\"The Classic War of the Worlds\\\" by Timothy ...\n",
       "2  \"7759_3\"          0  \"The film starts with a manager (Nicholas Bell...\n",
       "3  \"3630_4\"          0  \"It must be assumed that those who praised thi...\n",
       "4  \"9495_8\"          1  \"Superbly trashy and wondrously unpretentious ..."
      ]
     },
     "execution_count": 16,
     "metadata": {},
     "output_type": "execute_result"
    }
   ],
   "source": [
    "train.head()"
   ]
  },
  {
   "cell_type": "code",
   "execution_count": 6,
   "metadata": {
    "collapsed": false
   },
   "outputs": [
    {
     "name": "stdout",
     "output_type": "stream",
     "text": [
      "Read 25000 labeled train reviews, 25000 labeled test reviews, and 50000 unlabeled reviews\n",
      "\n"
     ]
    }
   ],
   "source": [
    "print \"Read {0} labeled train reviews, {1} labeled test reviews, and {2} unlabeled reviews\\n\".format(\n",
    "    train[\"review\"].size, test[\"review\"].size, unlabeled_train[\"review\"].size )"
   ]
  },
  {
   "cell_type": "code",
   "execution_count": 9,
   "metadata": {
    "collapsed": true
   },
   "outputs": [],
   "source": [
    "def review_to_wordlist( review, remove_stopwords=False ):\n",
    "    # Function to convert a document to a sequence of words,\n",
    "    # optionally removing stop words.  Returns a list of words.\n",
    "    #\n",
    "    # 1. Remove HTML\n",
    "    review_text = BeautifulSoup(review).get_text()\n",
    "    #  \n",
    "    # 2. Remove non-letters\n",
    "    review_text = re.sub(\"[^a-zA-Z]\",\" \", review_text)\n",
    "    #\n",
    "    # 3. Convert words to lower case and split them\n",
    "    words = review_text.lower().split()\n",
    "    #\n",
    "    # 4. Optionally remove stop words (false by default)\n",
    "    if remove_stopwords:\n",
    "        stops = set(stopwords.words(\"english\"))\n",
    "        words = [w for w in words if not w in stops]\n",
    "    #\n",
    "    # 5. Return a list of words\n",
    "    return(words)"
   ]
  },
  {
   "cell_type": "code",
   "execution_count": 12,
   "metadata": {
    "collapsed": true
   },
   "outputs": [],
   "source": [
    "tokenizer = nltk.data.load('tokenizers/punkt/english.pickle')"
   ]
  },
  {
   "cell_type": "code",
   "execution_count": 13,
   "metadata": {
    "collapsed": true
   },
   "outputs": [],
   "source": [
    "def review_to_sentences( review, tokenizer, remove_stopwords=False ):\n",
    "    # Function to split a review into parsed sentences. Returns a \n",
    "    # list of sentences, where each sentence is a list of words\n",
    "    #\n",
    "    # 1. Use the NLTK tokenizer to split the paragraph into sentences\n",
    "    raw_sentences = tokenizer.tokenize(review.strip())\n",
    "    #\n",
    "    # 2. Loop over each sentence\n",
    "    sentences = []\n",
    "    for raw_sentence in raw_sentences:\n",
    "        # If a sentence is empty, skip it\n",
    "        if len(raw_sentence) > 0:\n",
    "            # Otherwise, call review_to_wordlist to get a list of words\n",
    "            sentences.append( review_to_wordlist( raw_sentence, remove_stopwords ))\n",
    "    #\n",
    "    # Return the list of sentences (each sentence is a list of words,\n",
    "    # so this returns a list of lists\n",
    "    return sentences"
   ]
  },
  {
   "cell_type": "code",
   "execution_count": 18,
   "metadata": {
    "collapsed": false
   },
   "outputs": [
    {
     "name": "stdout",
     "output_type": "stream",
     "text": [
      "Parsing sentences from training set\n"
     ]
    },
    {
     "name": "stderr",
     "output_type": "stream",
     "text": [
      "//anaconda/lib/python2.7/site-packages/bs4/__init__.py:198: UserWarning: \".\" looks like a filename, not markup. You should probably open this file and pass the filehandle into Beautiful Soup.\n",
      "  '\"%s\" looks like a filename, not markup. You should probably open this file and pass the filehandle into Beautiful Soup.' % markup)\n",
      "//anaconda/lib/python2.7/site-packages/bs4/__init__.py:207: UserWarning: \"http://www.happierabroad.com\"\" looks like a URL. Beautiful Soup is not an HTTP client. You should probably use an HTTP client to get the document behind the URL, and feed that document to Beautiful Soup.\n",
      "  '\"%s\" looks like a URL. Beautiful Soup is not an HTTP client. You should probably use an HTTP client to get the document behind the URL, and feed that document to Beautiful Soup.' % markup)\n"
     ]
    },
    {
     "name": "stdout",
     "output_type": "stream",
     "text": [
      "Parsing sentences from unlabeled set\n"
     ]
    },
    {
     "name": "stderr",
     "output_type": "stream",
     "text": [
      "//anaconda/lib/python2.7/site-packages/bs4/__init__.py:207: UserWarning: \"http://www.archive.org/details/LovefromaStranger\"\" looks like a URL. Beautiful Soup is not an HTTP client. You should probably use an HTTP client to get the document behind the URL, and feed that document to Beautiful Soup.\n",
      "  '\"%s\" looks like a URL. Beautiful Soup is not an HTTP client. You should probably use an HTTP client to get the document behind the URL, and feed that document to Beautiful Soup.' % markup)\n",
      "//anaconda/lib/python2.7/site-packages/bs4/__init__.py:207: UserWarning: \"http://www.loosechangeguide.com/LooseChangeGuide.html\"\" looks like a URL. Beautiful Soup is not an HTTP client. You should probably use an HTTP client to get the document behind the URL, and feed that document to Beautiful Soup.\n",
      "  '\"%s\" looks like a URL. Beautiful Soup is not an HTTP client. You should probably use an HTTP client to get the document behind the URL, and feed that document to Beautiful Soup.' % markup)\n",
      "//anaconda/lib/python2.7/site-packages/bs4/__init__.py:207: UserWarning: \"http://www.msnbc.msn.com/id/4972055/site/newsweek/\"\" looks like a URL. Beautiful Soup is not an HTTP client. You should probably use an HTTP client to get the document behind the URL, and feed that document to Beautiful Soup.\n",
      "  '\"%s\" looks like a URL. Beautiful Soup is not an HTTP client. You should probably use an HTTP client to get the document behind the URL, and feed that document to Beautiful Soup.' % markup)\n",
      "//anaconda/lib/python2.7/site-packages/bs4/__init__.py:198: UserWarning: \"..\" looks like a filename, not markup. You should probably open this file and pass the filehandle into Beautiful Soup.\n",
      "  '\"%s\" looks like a filename, not markup. You should probably open this file and pass the filehandle into Beautiful Soup.' % markup)\n",
      "//anaconda/lib/python2.7/site-packages/bs4/__init__.py:207: UserWarning: \"http://www.youtube.com/watch?v=a0KSqelmgN8\"\" looks like a URL. Beautiful Soup is not an HTTP client. You should probably use an HTTP client to get the document behind the URL, and feed that document to Beautiful Soup.\n",
      "  '\"%s\" looks like a URL. Beautiful Soup is not an HTTP client. You should probably use an HTTP client to get the document behind the URL, and feed that document to Beautiful Soup.' % markup)\n",
      "//anaconda/lib/python2.7/site-packages/bs4/__init__.py:207: UserWarning: \"http://jake-weird.blogspot.com/2007/08/beneath.html\"\" looks like a URL. Beautiful Soup is not an HTTP client. You should probably use an HTTP client to get the document behind the URL, and feed that document to Beautiful Soup.\n",
      "  '\"%s\" looks like a URL. Beautiful Soup is not an HTTP client. You should probably use an HTTP client to get the document behind the URL, and feed that document to Beautiful Soup.' % markup)\n"
     ]
    }
   ],
   "source": [
    "sentences = []  # Initialize an empty list of sentences\n",
    "\n",
    "print \"Parsing sentences from training set\"\n",
    "for review in train[\"review\"]:\n",
    "    sentences += review_to_sentences(review, tokenizer)\n",
    "\n",
    "print \"Parsing sentences from unlabeled set\"\n",
    "for review in unlabeled_train[\"review\"]:\n",
    "    sentences += review_to_sentences(review, tokenizer)"
   ]
  },
  {
   "cell_type": "code",
   "execution_count": 26,
   "metadata": {
    "collapsed": false
   },
   "outputs": [
    {
     "name": "stdout",
     "output_type": "stream",
     "text": [
      "Training model...\n",
      "Model Trainied\n"
     ]
    }
   ],
   "source": [
    "# Import the built-in logging module and configure it so that Word2Vec \n",
    "# creates nice output messages\n",
    "import logging\n",
    "logging.basicConfig(format='%(asctime)s : %(levelname)s : %(message)s',\\\n",
    "    level=logging.INFO)\n",
    "\n",
    "# Set values for various parameters\n",
    "num_features = 300    # Word vector dimensionality                      \n",
    "min_word_count = 40   # Minimum word count                        \n",
    "num_workers = 4       # Number of threads to run in parallel\n",
    "context = 10          # Context window size                                                                                    \n",
    "downsampling = 1e-3   # Downsample setting for frequent words\n",
    "\n",
    "# Initialize and train the model (this will take some time)\n",
    "from gensim.models import word2vec\n",
    "print \"Training model...\"\n",
    "model = word2vec.Word2Vec(sentences, workers=num_workers, \\\n",
    "            size=num_features, min_count=min_word_count, \\\n",
    "            window=context, sample=downsampling)\n",
    "\n",
    "print 'Model Trainied'\n",
    "\n",
    "# If you don't plan to train the model any further, calling \n",
    "# init_sims will make the model much more memory-efficient.\n",
    "model.init_sims(replace=True)\n",
    "\n",
    "# It can be helpful to create a meaningful model name and \n",
    "# save the model for later use. You can load it later using Word2Vec.load()\n",
    "model_name = \"300features_40minwords_10context\"\n",
    "model.save(model_name)"
   ]
  },
  {
   "cell_type": "code",
   "execution_count": 27,
   "metadata": {
    "collapsed": false
   },
   "outputs": [
    {
     "data": {
      "text/plain": [
       "<gensim.models.word2vec.Word2Vec at 0x189249190>"
      ]
     },
     "execution_count": 27,
     "metadata": {},
     "output_type": "execute_result"
    }
   ],
   "source": [
    "model"
   ]
  },
  {
   "cell_type": "code",
   "execution_count": 28,
   "metadata": {
    "collapsed": false
   },
   "outputs": [
    {
     "data": {
      "text/plain": [
       "'kitchen'"
      ]
     },
     "execution_count": 28,
     "metadata": {},
     "output_type": "execute_result"
    }
   ],
   "source": [
    "model.doesnt_match(\"man woman child kitchen\".split())"
   ]
  },
  {
   "cell_type": "code",
   "execution_count": 29,
   "metadata": {
    "collapsed": false
   },
   "outputs": [
    {
     "data": {
      "text/plain": [
       "'berlin'"
      ]
     },
     "execution_count": 29,
     "metadata": {},
     "output_type": "execute_result"
    }
   ],
   "source": [
    "model.doesnt_match(\"france england germany berlin\".split())"
   ]
  },
  {
   "cell_type": "code",
   "execution_count": 30,
   "metadata": {
    "collapsed": false
   },
   "outputs": [
    {
     "data": {
      "text/plain": [
       "'austria'"
      ]
     },
     "execution_count": 30,
     "metadata": {},
     "output_type": "execute_result"
    }
   ],
   "source": [
    "model.doesnt_match(\"paris berlin london austria\".split())"
   ]
  },
  {
   "cell_type": "code",
   "execution_count": 31,
   "metadata": {
    "collapsed": false
   },
   "outputs": [
    {
     "data": {
      "text/plain": [
       "[(u'woman', 0.6327335834503174),\n",
       " (u'lady', 0.6051585674285889),\n",
       " (u'lad', 0.5627248287200928),\n",
       " (u'guy', 0.5312333106994629),\n",
       " (u'millionaire', 0.5232197642326355),\n",
       " (u'monk', 0.5156272649765015),\n",
       " (u'sailor', 0.5117502808570862),\n",
       " (u'soldier', 0.5106172561645508),\n",
       " (u'men', 0.5090273022651672),\n",
       " (u'person', 0.5067050457000732)]"
      ]
     },
     "execution_count": 31,
     "metadata": {},
     "output_type": "execute_result"
    }
   ],
   "source": [
    "model.most_similar(\"man\")"
   ]
  },
  {
   "cell_type": "code",
   "execution_count": 32,
   "metadata": {
    "collapsed": false
   },
   "outputs": [
    {
     "data": {
      "text/plain": [
       "[(u'lady', 0.6930738687515259),\n",
       " (u'prostitute', 0.675645112991333),\n",
       " (u'girl', 0.6608179807662964),\n",
       " (u'widow', 0.6342782974243164),\n",
       " (u'man', 0.6327335834503174),\n",
       " (u'heiress', 0.6079725027084351),\n",
       " (u'housewife', 0.6012897491455078),\n",
       " (u'waitress', 0.5899597406387329),\n",
       " (u'nun', 0.5787343978881836),\n",
       " (u'nurse', 0.5777239799499512)]"
      ]
     },
     "execution_count": 32,
     "metadata": {},
     "output_type": "execute_result"
    }
   ],
   "source": [
    "model.most_similar(\"woman\")"
   ]
  },
  {
   "cell_type": "code",
   "execution_count": 33,
   "metadata": {
    "collapsed": false
   },
   "outputs": [
    {
     "data": {
      "text/plain": [
       "[(u'princess', 0.6427208781242371),\n",
       " (u'bride', 0.6229053735733032),\n",
       " (u'dame', 0.5911622047424316),\n",
       " (u'stepmother', 0.5879566073417664),\n",
       " (u'belle', 0.5795427560806274),\n",
       " (u'duchess', 0.5769729614257812),\n",
       " (u'victoria', 0.5723650455474854),\n",
       " (u'eva', 0.5720877051353455),\n",
       " (u'goddess', 0.5669496059417725),\n",
       " (u'maid', 0.5632358193397522)]"
      ]
     },
     "execution_count": 33,
     "metadata": {},
     "output_type": "execute_result"
    }
   ],
   "source": [
    "model.most_similar(\"queen\")"
   ]
  },
  {
   "cell_type": "code",
   "execution_count": 34,
   "metadata": {
    "collapsed": false
   },
   "outputs": [
    {
     "data": {
      "text/plain": [
       "[(u'prince', 0.6447615623474121),\n",
       " (u'lion', 0.6027361154556274),\n",
       " (u'kingdom', 0.6004096269607544),\n",
       " (u'dorff', 0.566501796245575),\n",
       " (u'aladdin', 0.5640870928764343),\n",
       " (u'stephen', 0.5621935129165649),\n",
       " (u'kings', 0.5575608015060425),\n",
       " (u'hong', 0.5488128662109375),\n",
       " (u'lord', 0.5416520833969116),\n",
       " (u'rea', 0.5277429819107056)]"
      ]
     },
     "execution_count": 34,
     "metadata": {},
     "output_type": "execute_result"
    }
   ],
   "source": [
    "model.most_similar(\"king\")"
   ]
  },
  {
   "cell_type": "code",
   "execution_count": 35,
   "metadata": {
    "collapsed": false
   },
   "outputs": [
    {
     "data": {
      "text/plain": [
       "[(u'terrible', 0.7790436744689941),\n",
       " (u'horrible', 0.7441964745521545),\n",
       " (u'atrocious', 0.7340262532234192),\n",
       " (u'abysmal', 0.7163137197494507),\n",
       " (u'dreadful', 0.6877712607383728),\n",
       " (u'horrendous', 0.6856731176376343),\n",
       " (u'horrid', 0.6634783744812012),\n",
       " (u'appalling', 0.6601183414459229),\n",
       " (u'lousy', 0.6267744898796082),\n",
       " (u'amateurish', 0.606738269329071)]"
      ]
     },
     "execution_count": 35,
     "metadata": {},
     "output_type": "execute_result"
    }
   ],
   "source": [
    "model.most_similar(\"awful\")"
   ]
  },
  {
   "cell_type": "code",
   "execution_count": 160,
   "metadata": {
    "collapsed": false
   },
   "outputs": [
    {
     "data": {
      "text/plain": [
       "[(u'woman', 0.6327335834503174),\n",
       " (u'lady', 0.6051585674285889),\n",
       " (u'lad', 0.5627248287200928),\n",
       " (u'guy', 0.5312333106994629),\n",
       " (u'millionaire', 0.5232197642326355),\n",
       " (u'monk', 0.5156272649765015),\n",
       " (u'sailor', 0.5117502808570862),\n",
       " (u'soldier', 0.5106172561645508),\n",
       " (u'men', 0.5090273022651672),\n",
       " (u'person', 0.5067050457000732),\n",
       " (u'farmer', 0.5023829340934753),\n",
       " (u'chap', 0.4947691559791565),\n",
       " (u'businessman', 0.4944724440574646),\n",
       " (u'boy', 0.4940952956676483),\n",
       " (u'boxer', 0.4865094721317291),\n",
       " (u'doctor', 0.4855862855911255),\n",
       " (u'poet', 0.47282707691192627),\n",
       " (u'assassin', 0.47220495343208313),\n",
       " (u'gigolo', 0.46744322776794434),\n",
       " (u'stud', 0.4671333134174347),\n",
       " (u'gentleman', 0.4660152494907379),\n",
       " (u'loner', 0.4639155864715576),\n",
       " (u'lawyer', 0.463655561208725),\n",
       " (u'journalist', 0.45906928181648254),\n",
       " (u'gambler', 0.4569481909275055),\n",
       " (u'priest', 0.4565392732620239),\n",
       " (u'policeman', 0.4551057815551758),\n",
       " (u'loretta', 0.45207351446151733),\n",
       " (u'fisherman', 0.4501734972000122),\n",
       " (u'scientist', 0.4487750828266144),\n",
       " (u'widow', 0.4449962079524994),\n",
       " (u'politician', 0.4437452554702759),\n",
       " (u'billionaire', 0.44333499670028687),\n",
       " (u'thief', 0.44224947690963745),\n",
       " (u'widower', 0.4407683312892914),\n",
       " (u'psychopath', 0.43723443150520325),\n",
       " (u'artist', 0.42718976736068726),\n",
       " (u'madman', 0.4248030483722687),\n",
       " (u'teenager', 0.4225037693977356),\n",
       " (u'youngster', 0.42031359672546387),\n",
       " (u'womanizer', 0.4198794364929199),\n",
       " (u'murderer', 0.4191873073577881),\n",
       " (u'thug', 0.4172353744506836),\n",
       " (u'convict', 0.4162033498287201),\n",
       " (u'painter', 0.41496163606643677),\n",
       " (u'servant', 0.41388311982154846),\n",
       " (u'bum', 0.41168996691703796),\n",
       " (u'jew', 0.4115390479564667),\n",
       " (u'dude', 0.41038256883621216),\n",
       " (u'salesman', 0.4086156487464905)]"
      ]
     },
     "execution_count": 160,
     "metadata": {},
     "output_type": "execute_result"
    }
   ],
   "source": [
    "model.most_similar('man', topn=50)"
   ]
  },
  {
   "cell_type": "code",
   "execution_count": 36,
   "metadata": {
    "collapsed": false
   },
   "outputs": [
    {
     "data": {
      "text/plain": [
       "[(u'lady', 0.6930738687515259),\n",
       " (u'prostitute', 0.675645112991333),\n",
       " (u'girl', 0.6608179807662964),\n",
       " (u'widow', 0.6342782974243164),\n",
       " (u'man', 0.6327335834503174),\n",
       " (u'heiress', 0.6079725027084351),\n",
       " (u'housewife', 0.6012897491455078),\n",
       " (u'waitress', 0.5899597406387329),\n",
       " (u'nun', 0.5787343978881836),\n",
       " (u'nurse', 0.5777239799499512),\n",
       " (u'maid', 0.5665031671524048),\n",
       " (u'whore', 0.55854332447052),\n",
       " (u'women', 0.5570179224014282),\n",
       " (u'daughter', 0.5523622035980225),\n",
       " (u'loretta', 0.5450217127799988),\n",
       " (u'teenager', 0.5394467115402222),\n",
       " (u'slut', 0.5304248332977295),\n",
       " (u'journalist', 0.5303425788879395),\n",
       " (u'herself', 0.5274352431297302),\n",
       " (u'socialite', 0.526376485824585),\n",
       " (u'sailor', 0.5243158936500549),\n",
       " (u'stripper', 0.5220968723297119),\n",
       " (u'sexually', 0.5211952924728394),\n",
       " (u'lad', 0.5190826654434204),\n",
       " (u'patient', 0.5162556767463684),\n",
       " (u'person', 0.5158182382583618),\n",
       " (u'stud', 0.5134938955307007),\n",
       " (u'lover', 0.5096868872642517),\n",
       " (u'maria', 0.508490800857544),\n",
       " (u'hooker', 0.5083065032958984),\n",
       " (u'starlet', 0.5045278072357178),\n",
       " (u'virgin', 0.501690685749054),\n",
       " (u'youngster', 0.49932992458343506),\n",
       " (u'karen', 0.4978294372558594),\n",
       " (u'doctor', 0.4966960847377777),\n",
       " (u'spinster', 0.4960715174674988),\n",
       " (u'bitch', 0.4945147633552551),\n",
       " (u'monk', 0.4932892620563507),\n",
       " (u'blonde', 0.4921492338180542),\n",
       " (u'millionaire', 0.48880401253700256),\n",
       " (u'dancer', 0.48854464292526245),\n",
       " (u'husband', 0.4881362318992615),\n",
       " (u'nubile', 0.4870716631412506),\n",
       " (u'vixen', 0.48630502820014954),\n",
       " (u'ladies', 0.4855613708496094),\n",
       " (u'schoolgirl', 0.4854680895805359),\n",
       " (u'she', 0.4840888977050781),\n",
       " (u'brunette', 0.4825038015842438),\n",
       " (u'gal', 0.4812050759792328),\n",
       " (u'mother', 0.48113709688186646)]"
      ]
     },
     "execution_count": 36,
     "metadata": {},
     "output_type": "execute_result"
    }
   ],
   "source": [
    "model.most_similar('woman', topn=50)"
   ]
  },
  {
   "cell_type": "code",
   "execution_count": 39,
   "metadata": {
    "collapsed": false
   },
   "outputs": [
    {
     "data": {
      "text/plain": [
       "array([ -2.71250750e-03,   5.51074408e-02,  -5.79182357e-02,\n",
       "         1.12899374e-02,   1.30092204e-01,   6.19434379e-02,\n",
       "         1.38591537e-02,   2.33911574e-02,   1.08692154e-01,\n",
       "        -8.12306721e-03,   3.40193287e-02,  -1.06525021e-02,\n",
       "         4.09555063e-02,   6.25546426e-02,   3.69126834e-02,\n",
       "         8.01799148e-02,  -6.96953312e-02,   5.86435664e-03,\n",
       "        -1.33251816e-01,  -5.84867038e-02,  -3.59809622e-02,\n",
       "        -3.34324874e-02,   1.60039477e-02,   7.84007758e-02,\n",
       "         5.86162210e-02,  -4.96456921e-02,  -5.60594760e-02,\n",
       "        -5.25672622e-02,   7.29696685e-03,   6.21845759e-02,\n",
       "        -2.12517157e-02,   1.21844932e-02,   4.14985307e-02,\n",
       "        -6.79583699e-02,  -4.91063520e-02,   3.97513695e-02,\n",
       "         3.68263908e-02,   6.90318644e-02,   1.04710765e-01,\n",
       "         9.27047729e-02,  -2.33767144e-02,   4.42443714e-02,\n",
       "         6.71995953e-02,  -3.83549444e-02,  -1.53195923e-02,\n",
       "        -2.95798071e-02,   1.51816308e-02,   5.89467324e-02,\n",
       "        -8.14727023e-02,   3.26839425e-02,  -3.43654975e-02,\n",
       "         3.20018604e-02,   6.42404556e-02,   2.13846564e-02,\n",
       "         4.54752296e-02,  -7.38181472e-02,   5.03611527e-02,\n",
       "        -3.08333077e-02,  -4.75666076e-02,  -4.21488322e-02,\n",
       "        -7.22951964e-02,  -1.06731243e-02,  -1.63557287e-02,\n",
       "         1.61094069e-02,   4.92336378e-02,   4.90632094e-02,\n",
       "         1.87969543e-02,  -1.06392920e-01,   1.48094893e-02,\n",
       "        -4.61059101e-02,  -3.60007100e-02,  -1.10871224e-02,\n",
       "         5.83220534e-02,  -1.86342504e-02,   5.77071458e-02,\n",
       "        -5.26505411e-02,   7.47522488e-02,   1.91936970e-01,\n",
       "         4.29711863e-02,   2.22931411e-02,  -5.21852709e-02,\n",
       "        -1.95431989e-03,  -5.56487478e-02,  -6.84459955e-02,\n",
       "         7.92097077e-02,   6.83510303e-02,  -2.41183434e-02,\n",
       "        -8.21295008e-02,   3.35847177e-02,  -1.74194612e-02,\n",
       "        -2.97188926e-02,   2.41133701e-02,   9.18873120e-03,\n",
       "         6.34358078e-02,  -4.32718880e-02,   1.35549204e-02,\n",
       "         8.84575844e-02,   6.07422218e-02,   5.88987991e-02,\n",
       "        -4.15770523e-02,   1.24945613e-02,   4.60720807e-02,\n",
       "         3.85660380e-02,   2.06629075e-02,  -3.21643800e-02,\n",
       "        -1.11480504e-01,  -4.44020256e-02,   3.07676010e-02,\n",
       "        -5.69214709e-02,  -8.35018978e-02,   8.71338975e-03,\n",
       "        -2.12749001e-02,   1.57408997e-01,   6.90490231e-02,\n",
       "         1.27354473e-01,  -1.31331816e-01,   1.33171622e-02,\n",
       "        -4.77579981e-02,  -5.56587577e-02,   1.26830526e-02,\n",
       "         2.04788651e-02,   9.93995816e-02,   2.60920194e-03,\n",
       "         7.04788044e-02,  -9.72668082e-02,  -1.05945319e-02,\n",
       "         2.51457971e-02,  -1.65985581e-02,   1.36872247e-01,\n",
       "        -2.81879492e-02,   5.54004982e-02,  -2.74203904e-02,\n",
       "        -6.07280433e-02,  -1.34889647e-01,   4.11252771e-03,\n",
       "         1.23475559e-01,   1.93618629e-02,  -8.76285806e-02,\n",
       "        -3.03900540e-02,   9.78017505e-03,  -9.16358307e-02,\n",
       "        -6.29189378e-03,   9.44243893e-02,   1.39580950e-01,\n",
       "        -3.73082906e-02,  -1.45968705e-01,   4.03478630e-02,\n",
       "         2.00806558e-02,   4.88537326e-02,  -7.44794756e-02,\n",
       "         6.69102883e-03,   2.83685941e-02,   6.39897138e-02,\n",
       "        -4.74787364e-03,   2.85402257e-02,  -2.17030682e-02,\n",
       "         9.14248228e-02,  -1.17278816e-02,   6.41690344e-02,\n",
       "         7.74599463e-02,   4.84458730e-02,  -5.75302504e-02,\n",
       "        -3.42481956e-02,  -1.82818659e-02,  -3.40387709e-02,\n",
       "         1.07472995e-02,  -6.63338825e-02,  -6.24798797e-02,\n",
       "         4.99171503e-02,   3.49490643e-02,   9.68590677e-02,\n",
       "         6.72243685e-02,   8.82619396e-02,   7.51521364e-02,\n",
       "         4.96506831e-03,   6.89405808e-03,   7.60077834e-02,\n",
       "        -3.89416218e-02,  -4.19614986e-02,  -5.62667772e-02,\n",
       "        -3.55809890e-02,  -8.10323935e-03,  -3.80031508e-03,\n",
       "        -7.03850314e-02,  -1.34049803e-02,   6.68692961e-02,\n",
       "         9.25886165e-03,   5.08509614e-02,   2.39296891e-02,\n",
       "         3.23729217e-02,  -6.39392585e-02,   5.83214425e-02,\n",
       "         2.12059598e-02,   1.36949524e-01,   6.16139360e-02,\n",
       "        -2.34559122e-02,   6.96251765e-02,   9.36963707e-02,\n",
       "        -3.68028209e-02,  -7.66176265e-03,  -6.68790564e-02,\n",
       "        -1.55622698e-02,   4.33910638e-02,  -4.60615568e-02,\n",
       "         6.50401562e-02,  -4.95617418e-03,  -1.43115958e-02,\n",
       "        -1.79369524e-02,   1.09832466e-01,   6.68216944e-02,\n",
       "         5.48499450e-02,   6.67363480e-02,   2.98098591e-03,\n",
       "         1.06265411e-01,  -7.68698100e-03,  -4.59448844e-02,\n",
       "        -9.50942636e-02,   6.50816364e-03,   3.62387002e-02,\n",
       "        -8.70527700e-02,   1.90487709e-02,  -7.07398877e-02,\n",
       "         5.40544651e-02,  -4.69876267e-02,   5.69108017e-02,\n",
       "         4.06533293e-02,   1.52950948e-02,  -8.93744826e-02,\n",
       "         5.08439057e-02,  -3.73463593e-02,  -1.76743492e-02,\n",
       "         1.75460447e-02,   1.00635052e-01,  -4.65067960e-02,\n",
       "        -5.06581068e-02,  -4.01777029e-02,  -7.15672076e-02,\n",
       "         4.55673411e-03,   2.89325360e-02,  -8.32018107e-02,\n",
       "        -5.91548020e-03,  -1.54114459e-02,  -2.36733332e-02,\n",
       "        -7.77013600e-02,   9.09840968e-03,   2.27527674e-02,\n",
       "        -5.90253025e-02,   5.40894968e-03,   5.54172955e-02,\n",
       "        -1.61758989e-01,   2.15800013e-02,  -3.16735357e-02,\n",
       "         2.20357417e-03,   6.74637035e-02,  -5.73220961e-02,\n",
       "         9.59603339e-02,   6.32387400e-02,   9.51996259e-03,\n",
       "        -2.34031249e-02,  -4.46857475e-02,   4.05974314e-02,\n",
       "        -3.38981636e-02,  -2.26578787e-02,   5.60908625e-03,\n",
       "         2.03816257e-02,   1.84479412e-02,   2.56973989e-02,\n",
       "        -1.09778754e-02,  -4.32378612e-03,  -5.68917096e-02,\n",
       "        -6.00726008e-02,   1.91339976e-04,   5.42635703e-03,\n",
       "         4.05724533e-02,   4.51646969e-02,   2.56339759e-02,\n",
       "        -5.85017949e-02,   6.21894188e-03,   1.76234189e-02,\n",
       "        -1.38367983e-02,   7.48901516e-02,  -1.19505990e-02,\n",
       "         7.06630126e-02,   3.54477763e-02,  -1.22690313e-01,\n",
       "        -3.17614488e-02,  -8.27840567e-02,  -1.99074913e-02,\n",
       "        -1.26888184e-02,   9.80686676e-03,   2.99897287e-02,\n",
       "         3.22721824e-02,   5.70572875e-02,   3.83708738e-02,\n",
       "        -6.90848306e-02,   7.18003139e-02,  -4.20163758e-02,\n",
       "         7.89792370e-03,   5.19863106e-02,  -1.56750530e-02], dtype=float32)"
      ]
     },
     "execution_count": 39,
     "metadata": {},
     "output_type": "execute_result"
    }
   ],
   "source": [
    "model['woman']"
   ]
  },
  {
   "cell_type": "code",
   "execution_count": 44,
   "metadata": {
    "collapsed": false
   },
   "outputs": [
    {
     "data": {
      "text/plain": [
       "(16490, 300)"
      ]
     },
     "execution_count": 44,
     "metadata": {},
     "output_type": "execute_result"
    }
   ],
   "source": [
    "model.syn0.shape"
   ]
  },
  {
   "cell_type": "code",
   "execution_count": 49,
   "metadata": {
    "collapsed": true
   },
   "outputs": [],
   "source": [
    "from sklearn.manifold import LocallyLinearEmbedding"
   ]
  },
  {
   "cell_type": "code",
   "execution_count": 50,
   "metadata": {
    "collapsed": true
   },
   "outputs": [],
   "source": [
    "lle = LocallyLinearEmbedding(n_components=2, random_state=42)"
   ]
  },
  {
   "cell_type": "code",
   "execution_count": 51,
   "metadata": {
    "collapsed": false
   },
   "outputs": [
    {
     "data": {
      "text/plain": [
       "LocallyLinearEmbedding(eigen_solver='auto', hessian_tol=0.0001, max_iter=100,\n",
       "            method='standard', modified_tol=1e-12, n_components=2,\n",
       "            n_neighbors=5, neighbors_algorithm='auto', random_state=42,\n",
       "            reg=0.001, tol=1e-06)"
      ]
     },
     "execution_count": 51,
     "metadata": {},
     "output_type": "execute_result"
    }
   ],
   "source": [
    "lle.fit(model.syn0)"
   ]
  },
  {
   "cell_type": "code",
   "execution_count": 59,
   "metadata": {
    "collapsed": true
   },
   "outputs": [],
   "source": [
    "import seaborn as sns"
   ]
  },
  {
   "cell_type": "code",
   "execution_count": 58,
   "metadata": {
    "collapsed": false
   },
   "outputs": [],
   "source": [
    "woman_similiar = np.zeros((50, 2), dtype=np.float64)\n",
    "man_similiar = np.zeros((50, 2), dtype=np.float64)"
   ]
  },
  {
   "cell_type": "code",
   "execution_count": 92,
   "metadata": {
    "collapsed": true
   },
   "outputs": [],
   "source": [
    "def get_most_sim_matrix(word, topn):\n",
    "    arr = np.zeros((topn, 2))\n",
    "    for i, sim_tup in enumerate(model.most_similar(word, topn=topn)):\n",
    "        word = sim_tup[0]\n",
    "        arr[i] = lle.transform(model[word].reshape((1, -1)))\n",
    "    \n",
    "    return arr"
   ]
  },
  {
   "cell_type": "code",
   "execution_count": 169,
   "metadata": {
    "collapsed": false
   },
   "outputs": [],
   "source": [
    "respect_similiar = get_most_sim_matrix('respect', 10)\n",
    "woman_similiar = get_most_sim_matrix('woman', 10)\n",
    "man_similiar = get_most_sim_matrix('man', 10)"
   ]
  },
  {
   "cell_type": "code",
   "execution_count": 170,
   "metadata": {
    "collapsed": false
   },
   "outputs": [
    {
     "data": {
      "text/plain": [
       "<matplotlib.collections.PathCollection at 0x1977e3710>"
      ]
     },
     "execution_count": 170,
     "metadata": {},
     "output_type": "execute_result"
    },
    {
     "data": {
      "image/png": "[encoded data removed]",
      "text/plain": [
       "<matplotlib.figure.Figure at 0x1976b5190>"
      ]
     },
     "metadata": {},
     "output_type": "display_data"
    }
   ],
   "source": [
    "plt.scatter(woman_similiar[:, 0] * 100, woman_similiar[0:, 1] * 100, c='b')\n",
    "plt.scatter(man_similiar[:, 0] * 100, man_similiar[0:, 1] * 100, c='r')\n",
    "plt.scatter(respect_similiar[:, 0] * 100, respect_similiar[0:, 1] * 100, c='g')"
   ]
  },
  {
   "cell_type": "code",
   "execution_count": 126,
   "metadata": {
    "collapsed": false
   },
   "outputs": [
    {
     "data": {
      "text/plain": [
       "array([[-0.00084141, -0.07883704],\n",
       "       [-0.00057655, -0.0693732 ],\n",
       "       [-0.00074636, -0.07340247],\n",
       "       [-0.00055424, -0.07012056],\n",
       "       [-0.00075771, -0.07572083],\n",
       "       [-0.00056773, -0.07069865],\n",
       "       [-0.00058392, -0.06998894],\n",
       "       [-0.0005439 , -0.0696785 ],\n",
       "       [-0.00054674, -0.07014016],\n",
       "       [-0.00054649, -0.06963642],\n",
       "       [-0.00057533, -0.06966182],\n",
       "       [-0.00056351, -0.06880525],\n",
       "       [-0.0013042 , -0.09887406],\n",
       "       [-0.00057341, -0.06994229],\n",
       "       [-0.00058062, -0.06993554],\n",
       "       [-0.00102723, -0.08122954],\n",
       "       [-0.00058763, -0.06748473],\n",
       "       [-0.0005574 , -0.07142118],\n",
       "       [-0.00056514, -0.06864979],\n",
       "       [-0.000571  , -0.06992995],\n",
       "       [-0.00054983, -0.06961635],\n",
       "       [-0.00055785, -0.06793182],\n",
       "       [-0.00061188, -0.06413515],\n",
       "       [-0.00068386, -0.07178325],\n",
       "       [-0.00054493, -0.07021094],\n",
       "       [-0.00165976, -0.17490045],\n",
       "       [-0.00057836, -0.06964238],\n",
       "       [-0.00053514, -0.07017574],\n",
       "       [-0.00057559, -0.06905432],\n",
       "       [-0.00054927, -0.06861601],\n",
       "       [-0.00055556, -0.06868957],\n",
       "       [-0.00057847, -0.06894224],\n",
       "       [-0.00050833, -0.07343412],\n",
       "       [-0.00056687, -0.06901228],\n",
       "       [-0.00053394, -0.07157397],\n",
       "       [-0.00057295, -0.06955876],\n",
       "       [-0.00055526, -0.06766954],\n",
       "       [-0.00051805, -0.07196934],\n",
       "       [-0.00059041, -0.06489919],\n",
       "       [-0.00055015, -0.07087597],\n",
       "       [-0.00057415, -0.06905634],\n",
       "       [-0.00056512, -0.07006103],\n",
       "       [-0.00056455, -0.06940458],\n",
       "       [-0.00057827, -0.06755562],\n",
       "       [-0.00143295, -0.1008994 ],\n",
       "       [-0.00055202, -0.06880916],\n",
       "       [-0.00057435, -0.06920809],\n",
       "       [-0.00058052, -0.0662313 ],\n",
       "       [-0.00055867, -0.06796197],\n",
       "       [-0.00053846, -0.06994266]])"
      ]
     },
     "execution_count": 126,
     "metadata": {},
     "output_type": "execute_result"
    }
   ],
   "source": [
    "woman_similiar = get_most_sim_matrix('woman', 10)"
   ]
  },
  {
   "cell_type": "code",
   "execution_count": 114,
   "metadata": {
    "collapsed": false
   },
   "outputs": [
    {
     "data": {
      "text/plain": [
       "-0.001749004530322427"
      ]
     },
     "execution_count": 114,
     "metadata": {},
     "output_type": "execute_result"
    }
   ],
   "source": [
    "man_similiar.min()"
   ]
  },
  {
   "cell_type": "code",
   "execution_count": 115,
   "metadata": {
    "collapsed": false
   },
   "outputs": [
    {
     "data": {
      "text/plain": [
       "-3.9368493778553042e-06"
      ]
     },
     "execution_count": 115,
     "metadata": {},
     "output_type": "execute_result"
    }
   ],
   "source": [
    "man_similiar.max()"
   ]
  },
  {
   "cell_type": "code",
   "execution_count": 116,
   "metadata": {
    "collapsed": false
   },
   "outputs": [
    {
     "data": {
      "text/plain": [
       "-5.0832526533432722e-06"
      ]
     },
     "execution_count": 116,
     "metadata": {},
     "output_type": "execute_result"
    }
   ],
   "source": [
    "woman_similiar.max()"
   ]
  },
  {
   "cell_type": "code",
   "execution_count": null,
   "metadata": {
    "collapsed": true
   },
   "outputs": [],
   "source": []
  }
 ],
 "metadata": {
  "kernelspec": {
   "display_name": "Python [Root]",
   "language": "python",
   "name": "Python [Root]"
  },
  "language_info": {
   "codemirror_mode": {
    "name": "ipython",
    "version": 2
   },
   "file_extension": ".py",
   "mimetype": "text/x-python",
   "name": "python",
   "nbconvert_exporter": "python",
   "pygments_lexer": "ipython2",
   "version": "2.7.12"
  }
 },
 "nbformat": 4,
 "nbformat_minor": 0
}
